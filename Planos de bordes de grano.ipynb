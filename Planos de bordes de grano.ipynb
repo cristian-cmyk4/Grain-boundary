{
 "cells": [
  {
   "cell_type": "code",
   "execution_count": 1,
   "metadata": {},
   "outputs": [],
   "source": [
    "import numpy as np\n",
    "import matplotlib.pyplot as plt\n",
    "import random\n",
    "from pymatgen import Molecule\n",
    "from pymatgen.io.xyz import XYZ\n",
    "\n",
    "%matplotlib inline\n"
   ]
  },
  {
   "cell_type": "code",
   "execution_count": 2,
   "metadata": {},
   "outputs": [],
   "source": [
    "a = np.array([[1],[0]])\n",
    "b = np.array([[0],[1]])\n",
    "\n",
    "Mmax=50\n",
    "Nmax=50"
   ]
  },
  {
   "cell_type": "code",
   "execution_count": 3,
   "metadata": {},
   "outputs": [],
   "source": [
    "caja = []\n",
    "etiq = []\n",
    "\n",
    "for n in range(-Mmax,Mmax):\n",
    "    for m in range(-Nmax,Nmax):\n",
    "        vector = m*a + n*b\n",
    "        ejez = np.append(vector, 0)\n",
    "        if ejez[1] > 1:   \n",
    "            caja.append(ejez)\n",
    "            etiq.append(\"H\")\n",
    "        \n",
    "plano = Molecule(etiq, caja)\n"
   ]
  },
  {
   "cell_type": "code",
   "execution_count": 5,
   "metadata": {},
   "outputs": [],
   "source": [
    "theta = np.radians(38.94)\n",
    "\n",
    "r = np.array(( (np.cos(theta), -np.sin(theta)),\n",
    "               (np.sin(theta),  np.cos(theta)) ))"
   ]
  },
  {
   "cell_type": "code",
   "execution_count": 16,
   "metadata": {},
   "outputs": [],
   "source": [
    "caja = []\n",
    "etiq = []\n",
    "\n",
    "for n in range(-Mmax,Mmax):\n",
    "    for m in range(-Nmax,Nmax):\n",
    "        vector = m*a + n*b\n",
    "        rot = r.dot(vector)\n",
    "        ejez = np.append(rot, 0)\n",
    "        if ejez[1] < 1:\n",
    "            caja.append(ejez)\n",
    "            etiq.append(\"H\")\n",
    "\n",
    "planorot = Molecule(etiq, caja)"
   ]
  },
  {
   "cell_type": "code",
   "execution_count": 17,
   "metadata": {},
   "outputs": [],
   "source": [
    "xyz = XYZ(plano)\n",
    "xyz.write_file(\"plano.xyz\")"
   ]
  },
  {
   "cell_type": "code",
   "execution_count": 18,
   "metadata": {},
   "outputs": [],
   "source": [
    "xyz = XYZ(planorot)\n",
    "xyz.write_file(\"planorot.xyz\")"
   ]
  },
  {
   "cell_type": "code",
   "execution_count": null,
   "metadata": {},
   "outputs": [],
   "source": []
  }
 ],
 "metadata": {
  "kernelspec": {
   "display_name": "Python 3",
   "language": "python",
   "name": "python3"
  },
  "language_info": {
   "codemirror_mode": {
    "name": "ipython",
    "version": 3
   },
   "file_extension": ".py",
   "mimetype": "text/x-python",
   "name": "python",
   "nbconvert_exporter": "python",
   "pygments_lexer": "ipython3",
   "version": "3.8.3"
  }
 },
 "nbformat": 4,
 "nbformat_minor": 4
}
